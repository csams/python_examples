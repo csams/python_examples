{
 "cells": [
  {
   "cell_type": "markdown",
   "metadata": {
    "deletable": true,
    "editable": true
   },
   "source": [
    "# Demystifying Decorators"
   ]
  },
  {
   "cell_type": "markdown",
   "metadata": {
    "deletable": true,
    "editable": true
   },
   "source": [
    "## Some you may have seen\n",
    "- @staticmethod\n",
    "- @classmethod\n",
    "- @property\n",
    "- @app.route or similar in flask or other frameworks\n",
    "\n",
    "\n",
    "## What's a decorator?\n",
    "It's an @ symbol followed by some name sitting just above a function, method, or class definition.\n",
    "\n",
    "## Well, yeah... but what is it *really*?\n",
    "The whole thing has three parts:\n",
    "- @ symbol\n",
    "- some name\n",
    "- function, method, or class definition\n",
    "\n",
    "The key is that @ symbol. It's an operator just like +, -, *, /, etc., and it has two operands:\n",
    "\n",
    "- A callable\n",
    "- A function, method, or class definition\n",
    "\n",
    "## What's it do with them?\n",
    "\n",
    "It is syntactic sugar for the following pattern:"
   ]
  },
  {
   "cell_type": "code",
   "execution_count": 1,
   "metadata": {
    "collapsed": true,
    "deletable": true,
    "editable": true
   },
   "outputs": [],
   "source": [
    "# say we have some callable thing:\n",
    "\n",
    "def times_two(n):\n",
    "    return 2 * n"
   ]
  },
  {
   "cell_type": "code",
   "execution_count": 2,
   "metadata": {
    "collapsed": true,
    "deletable": true,
    "editable": true
   },
   "outputs": [],
   "source": [
    "# and some other callable thing:\n",
    "\n",
    "def my_decorator(obj):\n",
    "    print \"Wrapping %s!\" % obj.__name__\n",
    "    return obj"
   ]
  },
  {
   "cell_type": "code",
   "execution_count": 3,
   "metadata": {
    "collapsed": false,
    "deletable": true,
    "editable": true
   },
   "outputs": [
    {
     "name": "stdout",
     "output_type": "stream",
     "text": [
      "Wrapping times_two!\n"
     ]
    }
   ],
   "source": [
    "# and we pass the first thing into the second one and assign the result\n",
    "# back to the first one.\n",
    "\n",
    "times_two = my_decorator(times_two)"
   ]
  },
  {
   "cell_type": "markdown",
   "metadata": {
    "deletable": true,
    "editable": true
   },
   "source": [
    "**The @ operator shortens this pattern. It invokes its first operand (my_decorator) against its second operand (times_two), and it assigns the result back to the symbol for the second operand (times_two).**\n",
    "\n",
    "## And that's it. You now know everything about decorators."
   ]
  },
  {
   "cell_type": "code",
   "execution_count": 4,
   "metadata": {
    "collapsed": false,
    "deletable": true,
    "editable": true
   },
   "outputs": [
    {
     "name": "stdout",
     "output_type": "stream",
     "text": [
      "Wrapping times_two!\n"
     ]
    }
   ],
   "source": [
    "@my_decorator\n",
    "def times_two(n):\n",
    "    return 2 * n"
   ]
  },
  {
   "cell_type": "code",
   "execution_count": 5,
   "metadata": {
    "collapsed": false,
    "deletable": true,
    "editable": true
   },
   "outputs": [
    {
     "data": {
      "text/plain": [
       "<function __main__.times_two>"
      ]
     },
     "execution_count": 5,
     "metadata": {},
     "output_type": "execute_result"
    }
   ],
   "source": [
    "times_two"
   ]
  },
  {
   "cell_type": "markdown",
   "metadata": {
    "deletable": true,
    "editable": true
   },
   "source": [
    "### And you're sure there's no  magic...?"
   ]
  },
  {
   "cell_type": "code",
   "execution_count": 6,
   "metadata": {
    "collapsed": false,
    "deletable": true,
    "editable": true
   },
   "outputs": [
    {
     "data": {
      "text/plain": [
       "<function __main__.im_a_function_that_returns_forty_two>"
      ]
     },
     "execution_count": 6,
     "metadata": {},
     "output_type": "execute_result"
    }
   ],
   "source": [
    "def im_a_function_that_returns_forty_two():\n",
    "    return 42\n",
    "\n",
    "im_a_function_that_returns_forty_two"
   ]
  },
  {
   "cell_type": "code",
   "execution_count": 7,
   "metadata": {
    "collapsed": true,
    "deletable": true,
    "editable": true
   },
   "outputs": [],
   "source": [
    "def nope_youre_four(obj):\n",
    "    return 4"
   ]
  },
  {
   "cell_type": "code",
   "execution_count": 8,
   "metadata": {
    "collapsed": true,
    "deletable": true,
    "editable": true
   },
   "outputs": [],
   "source": [
    "@nope_youre_four\n",
    "def im_a_function_that_returns_forty_two():\n",
    "    return 42"
   ]
  },
  {
   "cell_type": "code",
   "execution_count": 9,
   "metadata": {
    "collapsed": false,
    "deletable": true,
    "editable": true
   },
   "outputs": [
    {
     "data": {
      "text/plain": [
       "4"
      ]
     },
     "execution_count": 9,
     "metadata": {},
     "output_type": "execute_result"
    }
   ],
   "source": [
    "im_a_function_that_returns_forty_two"
   ]
  },
  {
   "cell_type": "code",
   "execution_count": 10,
   "metadata": {
    "collapsed": false,
    "deletable": true,
    "editable": true
   },
   "outputs": [
    {
     "data": {
      "text/plain": [
       "int"
      ]
     },
     "execution_count": 10,
     "metadata": {},
     "output_type": "execute_result"
    }
   ],
   "source": [
    "type(im_a_function_that_returns_forty_two)"
   ]
  },
  {
   "cell_type": "markdown",
   "metadata": {
    "deletable": true,
    "editable": true
   },
   "source": [
    "### Didn't you say it worked on class definitions?"
   ]
  },
  {
   "cell_type": "code",
   "execution_count": 11,
   "metadata": {
    "collapsed": false,
    "deletable": true,
    "editable": true
   },
   "outputs": [
    {
     "name": "stdout",
     "output_type": "stream",
     "text": [
      "Wrapping B!\n"
     ]
    }
   ],
   "source": [
    "@my_decorator\n",
    "class B(object):\n",
    "    pass"
   ]
  },
  {
   "cell_type": "code",
   "execution_count": 12,
   "metadata": {
    "collapsed": false,
    "deletable": true,
    "editable": true
   },
   "outputs": [
    {
     "data": {
      "text/plain": [
       "__main__.B"
      ]
     },
     "execution_count": 12,
     "metadata": {},
     "output_type": "execute_result"
    }
   ],
   "source": [
    "B"
   ]
  },
  {
   "cell_type": "markdown",
   "metadata": {
    "deletable": true,
    "editable": true
   },
   "source": [
    "# Great! So what can we do with them?\n",
    "\n",
    "### Here's our \"my_decorator\" function again. It just returned whatever you passed to it."
   ]
  },
  {
   "cell_type": "code",
   "execution_count": 13,
   "metadata": {
    "collapsed": true,
    "deletable": true,
    "editable": true
   },
   "outputs": [],
   "source": [
    "def my_decorator(n):\n",
    "    print \"Returning what you gave me!\"\n",
    "    return n  # just return n"
   ]
  },
  {
   "cell_type": "markdown",
   "metadata": {
    "deletable": true,
    "editable": true
   },
   "source": [
    "### What if we create a function inside a function and return that inner function instead of what was passed in?"
   ]
  },
  {
   "cell_type": "code",
   "execution_count": 14,
   "metadata": {
    "collapsed": true,
    "deletable": true,
    "editable": true
   },
   "outputs": [],
   "source": [
    "def multiplier_factory(n):\n",
    "    \n",
    "    def multiplier(x):\n",
    "        return n * x\n",
    "    \n",
    "    return multiplier\n",
    "\n",
    "# mul_four and mul_five are functions gotten out of multiplier_factory\n",
    "\n",
    "mul_four = multiplier_factory(4)\n",
    "mul_five = multiplier_factory(5)"
   ]
  },
  {
   "cell_type": "code",
   "execution_count": 15,
   "metadata": {
    "collapsed": false,
    "deletable": true,
    "editable": true
   },
   "outputs": [
    {
     "data": {
      "text/plain": [
       "12"
      ]
     },
     "execution_count": 15,
     "metadata": {},
     "output_type": "execute_result"
    }
   ],
   "source": [
    "mul_four(3)"
   ]
  },
  {
   "cell_type": "code",
   "execution_count": 16,
   "metadata": {
    "collapsed": false,
    "deletable": true,
    "editable": true
   },
   "outputs": [
    {
     "data": {
      "text/plain": [
       "15"
      ]
     },
     "execution_count": 16,
     "metadata": {},
     "output_type": "execute_result"
    }
   ],
   "source": [
    "mul_five(3)"
   ]
  },
  {
   "cell_type": "markdown",
   "metadata": {
    "deletable": true,
    "editable": true
   },
   "source": [
    "### Notice that the functions we get out of multiplier_factory remember the values of n that were passed into it.\n",
    "Side note: A function that remembers some local environment in which it was defined is called a **closure**."
   ]
  },
  {
   "cell_type": "markdown",
   "metadata": {
    "deletable": true,
    "editable": true
   },
   "source": [
    "## What does that have to do with decorators?"
   ]
  },
  {
   "cell_type": "markdown",
   "metadata": {
    "deletable": true,
    "editable": true
   },
   "source": [
    "Say you want to know how long a function is taking, and you want to encapsulate the timing logic so you can apply it to several different functions."
   ]
  },
  {
   "cell_type": "code",
   "execution_count": 17,
   "metadata": {
    "collapsed": true,
    "deletable": true,
    "editable": true
   },
   "outputs": [],
   "source": [
    "# Here's a little function that we think might be taking a while.\n",
    "\n",
    "import time\n",
    "\n",
    "def sum_to_n(a):\n",
    "    \"\"\"Sums integers.\"\"\"\n",
    "    total = a\n",
    "    for x in xrange(1, a):\n",
    "        total += x\n",
    "        time.sleep(1)\n",
    "    return total"
   ]
  },
  {
   "cell_type": "code",
   "execution_count": 18,
   "metadata": {
    "collapsed": true,
    "deletable": true,
    "editable": true
   },
   "outputs": [],
   "source": [
    "import functools\n",
    "import time\n",
    "\n",
    "# Here's how we encapsulate our timing logic.\n",
    "\n",
    "def timeit(func):\n",
    "\n",
    "    def inner(x):\n",
    "        \"\"\"This is a timed func!\"\"\"\n",
    "        start = time.time()\n",
    "        try:\n",
    "            return func(x)\n",
    "        finally:\n",
    "            duration = time.time() - start\n",
    "            print \"%s took %s\" % (func.__name__, duration)\n",
    "\n",
    "    return inner\n",
    "\n",
    "# Notice how similar in structure this is to multiplier_factory"
   ]
  },
  {
   "cell_type": "markdown",
   "metadata": {
    "deletable": true,
    "editable": true
   },
   "source": [
    "### To profile sum_to_n, we just wrap it in a timeit call"
   ]
  },
  {
   "cell_type": "code",
   "execution_count": 19,
   "metadata": {
    "collapsed": true,
    "deletable": true,
    "editable": true
   },
   "outputs": [],
   "source": [
    "sum_to_n = timeit(sum_to_n)"
   ]
  },
  {
   "cell_type": "markdown",
   "metadata": {
    "deletable": true,
    "editable": true
   },
   "source": [
    "**The function we got out of timeit and assign back to sum_to_n is just like mul_four and mul_five. It remembers the original thing we passed into timeit, in this case our original sum_to_n function.**"
   ]
  },
  {
   "cell_type": "code",
   "execution_count": 20,
   "metadata": {
    "collapsed": false,
    "deletable": true,
    "editable": true
   },
   "outputs": [
    {
     "name": "stdout",
     "output_type": "stream",
     "text": [
      "sum_to_n took 1.00147509575\n"
     ]
    },
    {
     "data": {
      "text/plain": [
       "3"
      ]
     },
     "execution_count": 20,
     "metadata": {},
     "output_type": "execute_result"
    }
   ],
   "source": [
    "sum_to_n(2)"
   ]
  },
  {
   "cell_type": "markdown",
   "metadata": {
    "deletable": true,
    "editable": true
   },
   "source": [
    "### Is this pattern familiar?\n",
    "Yep, looks just like the first thing we did with times_two and my_decorator. So let's just do this:"
   ]
  },
  {
   "cell_type": "code",
   "execution_count": 21,
   "metadata": {
    "collapsed": false,
    "deletable": true,
    "editable": true
   },
   "outputs": [],
   "source": [
    "import time\n",
    "\n",
    "@timeit\n",
    "def sum_to_n(a):\n",
    "    \"\"\"Sums integers.\"\"\"\n",
    "    total = a\n",
    "    for x in xrange(1, a):\n",
    "        total += x\n",
    "        time.sleep(1)\n",
    "    return total"
   ]
  },
  {
   "cell_type": "code",
   "execution_count": 22,
   "metadata": {
    "collapsed": false,
    "deletable": true,
    "editable": true
   },
   "outputs": [
    {
     "name": "stdout",
     "output_type": "stream",
     "text": [
      "sum_to_n took 2.00258708\n"
     ]
    },
    {
     "data": {
      "text/plain": [
       "6"
      ]
     },
     "execution_count": 22,
     "metadata": {},
     "output_type": "execute_result"
    }
   ],
   "source": [
    "sum_to_n(3)"
   ]
  },
  {
   "cell_type": "markdown",
   "metadata": {
    "deletable": true,
    "editable": true
   },
   "source": [
    "### But what's this?"
   ]
  },
  {
   "cell_type": "code",
   "execution_count": 23,
   "metadata": {
    "collapsed": false,
    "deletable": true,
    "editable": true
   },
   "outputs": [
    {
     "data": {
      "text/plain": [
       "<function __main__.inner>"
      ]
     },
     "execution_count": 23,
     "metadata": {},
     "output_type": "execute_result"
    }
   ],
   "source": [
    "sum_to_n"
   ]
  },
  {
   "cell_type": "code",
   "execution_count": 24,
   "metadata": {
    "collapsed": false,
    "deletable": true,
    "editable": true
   },
   "outputs": [
    {
     "data": {
      "text/plain": [
       "'This is a timed func!'"
      ]
     },
     "execution_count": 24,
     "metadata": {},
     "output_type": "execute_result"
    }
   ],
   "source": [
    "sum_to_n.__doc__"
   ]
  },
  {
   "cell_type": "markdown",
   "metadata": {
    "deletable": true,
    "editable": true
   },
   "source": [
    "## Cool... but what about decorators that take arguments?\n",
    "\n",
    "Okay, so you noticed that our decorators haven't had any parens at the end. That's because the @ operator takes care of invocation for us. Remember, the operator takes two operands: a callable as the first and some function, method, or class definition to apply it against as the second.\n",
    "\n",
    "Since the @ operator will call the first operand for us, it doesn't seem like we can give it any arguments. What can we do? Let's take a clue from multiplier_factory and timeit."
   ]
  },
  {
   "cell_type": "code",
   "execution_count": 25,
   "metadata": {
    "collapsed": false,
    "deletable": true,
    "editable": true
   },
   "outputs": [
    {
     "name": "stdout",
     "output_type": "stream",
     "text": [
      "Calling times_four!\n"
     ]
    },
    {
     "data": {
      "text/plain": [
       "16"
      ]
     },
     "execution_count": 25,
     "metadata": {},
     "output_type": "execute_result"
    }
   ],
   "source": [
    "# Say we want a decorator that prints a custom message for each thing it decorates.\n",
    "\n",
    "# Since a global msg won't work, let's make a factory function that takes a msg as an\n",
    "# argument. Then let's create a function similar in structure to timeit inside *that* function.\n",
    "# Like with timeit, we can return a locally defined function as the value of an enclosing\n",
    "# function.\n",
    "\n",
    "def make_noisy(msg):\n",
    "    \n",
    "    def decorator(func):\n",
    "        @functools.wraps(func)\n",
    "        def inner(*args, **kwargs):\n",
    "            print msg\n",
    "            return func(*args, **kwargs)\n",
    "        return inner\n",
    "    \n",
    "    return decorator\n",
    "\n",
    "# We have to get an instance of the decorator back out of that whole thing, so let's ask\n",
    "# the factory for one:\n",
    "\n",
    "noise_maker = make_noisy(\"Calling times_four!\")\n",
    "\n",
    "# And now we can use it:\n",
    "\n",
    "@noise_maker\n",
    "def times_four(n):\n",
    "    return 4 * n\n",
    "\n",
    "times_four(4)"
   ]
  },
  {
   "cell_type": "markdown",
   "metadata": {
    "deletable": true,
    "editable": true
   },
   "source": [
    "### Can we skip that assignment step?"
   ]
  },
  {
   "cell_type": "markdown",
   "metadata": {
    "deletable": true,
    "editable": true
   },
   "source": [
    "Sure, let's just call make_noisy right after the @. We don't have to give the callable we're getting out of it a name first."
   ]
  },
  {
   "cell_type": "code",
   "execution_count": 26,
   "metadata": {
    "collapsed": false,
    "deletable": true,
    "editable": true
   },
   "outputs": [
    {
     "name": "stdout",
     "output_type": "stream",
     "text": [
      "Calling times_five!\n"
     ]
    },
    {
     "data": {
      "text/plain": [
       "25"
      ]
     },
     "execution_count": 26,
     "metadata": {},
     "output_type": "execute_result"
    }
   ],
   "source": [
    "@make_noisy(\"Calling times_five!\")\n",
    "def times_five(n):\n",
    "    return 5 * n\n",
    "\n",
    "times_five(5)"
   ]
  },
  {
   "cell_type": "markdown",
   "metadata": {
    "deletable": true,
    "editable": true
   },
   "source": [
    "## Neat! Show me something practical I can do with it."
   ]
  },
  {
   "cell_type": "markdown",
   "metadata": {},
   "source": [
    "### Registering Handlers"
   ]
  },
  {
   "cell_type": "code",
   "execution_count": 27,
   "metadata": {
    "collapsed": true
   },
   "outputs": [],
   "source": [
    "registry = {}\n",
    "\n",
    "def mime_handler(mimetype):\n",
    "    \n",
    "    def decorator(func):\n",
    "        registry[mimetype] = func\n",
    "        return func\n",
    "    \n",
    "    return decorator"
   ]
  },
  {
   "cell_type": "code",
   "execution_count": 28,
   "metadata": {
    "collapsed": false
   },
   "outputs": [
    {
     "name": "stdout",
     "output_type": "stream",
     "text": [
      "{'text/json': <function json_handler at 0x7ff6dc56acf8>}\n"
     ]
    }
   ],
   "source": [
    "import json\n",
    "\n",
    "@mime_handler(\"text/json\")\n",
    "def json_handler(content):\n",
    "    return json.loads(content)\n",
    "\n",
    "print registry"
   ]
  },
  {
   "cell_type": "markdown",
   "metadata": {
    "deletable": true,
    "editable": true
   },
   "source": [
    "### Configurable Automatic Retries"
   ]
  },
  {
   "cell_type": "code",
   "execution_count": 29,
   "metadata": {
    "collapsed": false,
    "deletable": true,
    "editable": true
   },
   "outputs": [],
   "source": [
    "import functools\n",
    "\n",
    "def retry(num_retries=3):\n",
    "    \n",
    "    def decorator(func):\n",
    "        @functools.wraps(func)\n",
    "        def inner(*args, **kwargs):\n",
    "            exception = None\n",
    "            attempts = num_retries + 1\n",
    "            for attempt in xrange(1, attempts + 1):\n",
    "                try:\n",
    "                    return func(*args, **kwargs)\n",
    "                except Exception as ex:\n",
    "                    print \"Attempt %s failed!\" % attempt\n",
    "                    exception = ex\n",
    "            raise exception\n",
    "        return inner\n",
    "\n",
    "    return decorator"
   ]
  },
  {
   "cell_type": "code",
   "execution_count": 30,
   "metadata": {
    "collapsed": true,
    "deletable": true,
    "editable": true
   },
   "outputs": [],
   "source": [
    "import random\n",
    "\n",
    "@retry(num_retries=5)\n",
    "def flaky():\n",
    "    if random.random() < 0.5:\n",
    "        raise Exception(\"Boom!\")\n",
    "    return \"Success!\""
   ]
  },
  {
   "cell_type": "code",
   "execution_count": 31,
   "metadata": {
    "collapsed": false,
    "deletable": true,
    "editable": true
   },
   "outputs": [
    {
     "name": "stdout",
     "output_type": "stream",
     "text": [
      "Attempt 1 failed!\n"
     ]
    },
    {
     "data": {
      "text/plain": [
       "'Success!'"
      ]
     },
     "execution_count": 31,
     "metadata": {},
     "output_type": "execute_result"
    }
   ],
   "source": [
    "flaky()"
   ]
  },
  {
   "cell_type": "markdown",
   "metadata": {
    "deletable": true,
    "editable": true
   },
   "source": [
    "### Memoization\n",
    "\n",
    "We could have a function automatically remember its return values for given arguments. This can be useful if the function is computationally expensive or backed by a call that takes a long time to complete. Say it's reading from disk or making a network call it really doesn't *have* to make every time it's called."
   ]
  },
  {
   "cell_type": "code",
   "execution_count": 32,
   "metadata": {
    "collapsed": true,
    "deletable": true,
    "editable": true
   },
   "outputs": [],
   "source": [
    "# Here's a long running call to a service. The results don't change\n",
    "# for the same arguments, and we don't need to remember every result.\n",
    "\n",
    "# Terribad implementation for calculating fibonacci numbers for a given\n",
    "# index.\n",
    "\n",
    "# 1 1 2 3 5 8 13 21...\n",
    "def fib(n):\n",
    "    if n < 2:\n",
    "        return 1\n",
    "    return fib(n - 1) + fib(n - 2)"
   ]
  },
  {
   "cell_type": "markdown",
   "metadata": {
    "deletable": true,
    "editable": true
   },
   "source": [
    "### Let's keep the results from the last few calls around in case they're needed again soon."
   ]
  },
  {
   "cell_type": "code",
   "execution_count": 33,
   "metadata": {
    "collapsed": false,
    "deletable": true,
    "editable": true
   },
   "outputs": [],
   "source": [
    "import functools\n",
    "from collections import deque\n",
    "\n",
    "def naive_hash(args, kwargs):\n",
    "    return hash(str(args) + str(kwargs))\n",
    "\n",
    "\n",
    "def memoizer(cache_size=5):\n",
    "    # local state\n",
    "    cache = {}\n",
    "    args_queue = deque()\n",
    "    cache_size = cache_size\n",
    "\n",
    "    # inner functions\n",
    "    def check_evict():\n",
    "        if len(args_queue) > cache_size:\n",
    "            old_key = args_queue.popleft()\n",
    "            del cache[old_key]\n",
    "            \n",
    "    def should_compute(key):\n",
    "        return key not in cache\n",
    "\n",
    "    def memoize(key, value):\n",
    "        cache[key] = value\n",
    "        args_queue.append(key)\n",
    "        \n",
    "    def value(key):\n",
    "        return cache[key]\n",
    "\n",
    "    # the function that @ will call for us\n",
    "    def decorator(func):\n",
    "        @functools.wraps(func)\n",
    "        def inner(*args, **kwargs):\n",
    "            key = naive_hash(args, kwargs)\n",
    "            if should_compute(key):\n",
    "                memoize(key, func(*args, **kwargs))\n",
    "            check_evict()\n",
    "            return value(key)\n",
    "        return inner\n",
    "\n",
    "    return decorator"
   ]
  },
  {
   "cell_type": "code",
   "execution_count": 34,
   "metadata": {
    "collapsed": true,
    "deletable": true,
    "editable": true
   },
   "outputs": [],
   "source": [
    "@memoizer(cache_size=3)\n",
    "def memfib(n):\n",
    "    if n < 2:\n",
    "        return 1\n",
    "    return memfib(n - 1) + memfib(n - 2)"
   ]
  },
  {
   "cell_type": "code",
   "execution_count": 35,
   "metadata": {
    "collapsed": false,
    "deletable": true,
    "editable": true
   },
   "outputs": [
    {
     "data": {
      "text/plain": [
       "573147844013817084101L"
      ]
     },
     "execution_count": 35,
     "metadata": {},
     "output_type": "execute_result"
    }
   ],
   "source": [
    "# This wouldn't complete in our lifetimes without memoization.\n",
    "memfib(100)"
   ]
  },
  {
   "cell_type": "markdown",
   "metadata": {
    "deletable": true,
    "editable": true
   },
   "source": [
    "## Awesome, but wouldn't that be hard to test or change eviction policy?\n",
    "Yep, and we already have a thing to capture local state and related functions: let's use a class."
   ]
  },
  {
   "cell_type": "code",
   "execution_count": 36,
   "metadata": {
    "collapsed": true,
    "deletable": true,
    "editable": true
   },
   "outputs": [],
   "source": [
    "import functools\n",
    "from collections import deque\n",
    "\n",
    "\n",
    "class Memoizer(object):\n",
    "    def __init__(self, cache_size=5):\n",
    "        self.cache = {}\n",
    "        self.args_queue = deque()\n",
    "        self.cache_size = cache_size\n",
    "\n",
    "    def _check_evict(self):\n",
    "        if len(self.args_queue) > self.cache_size:\n",
    "            old_key = self.args_queue.popleft()\n",
    "            del self.cache[old_key]\n",
    "            \n",
    "    def _should_compute(self, key):\n",
    "        return key not in self.cache\n",
    "\n",
    "    def _memoize(self, key, value):\n",
    "        self.cache[key] = value\n",
    "        self.args_queue.append(key)\n",
    "        \n",
    "    def _value(self, key):\n",
    "        return self.cache[key]\n",
    "        \n",
    "    def __call__(self, func):\n",
    "        @functools.wraps(func)\n",
    "        def inner(*args, **kwargs):\n",
    "            key = naive_hash(args, kwargs)\n",
    "            if self._should_compute(key):\n",
    "                self._memoize(key, func(*args, **kwargs))\n",
    "            self._check_evict()\n",
    "            return self._value(key)\n",
    "        return inner"
   ]
  },
  {
   "cell_type": "code",
   "execution_count": 37,
   "metadata": {
    "collapsed": true,
    "deletable": true,
    "editable": true
   },
   "outputs": [],
   "source": [
    "@Memoizer(cache_size=3)\n",
    "def memfib2(n):\n",
    "    if n < 2:\n",
    "        return 1\n",
    "    return memfib2(n - 1) + memfib2(n - 2)"
   ]
  },
  {
   "cell_type": "code",
   "execution_count": 38,
   "metadata": {
    "collapsed": false,
    "deletable": true,
    "editable": true
   },
   "outputs": [
    {
     "data": {
      "text/plain": [
       "573147844013817084101L"
      ]
     },
     "execution_count": 38,
     "metadata": {},
     "output_type": "execute_result"
    }
   ],
   "source": [
    "memfib2(100)"
   ]
  },
  {
   "cell_type": "markdown",
   "metadata": {
    "deletable": true,
    "editable": true
   },
   "source": [
    "# Any Questions?\n",
    "## https://github.com/csams/python_examples"
   ]
  }
 ],
 "metadata": {
  "kernelspec": {
   "display_name": "Python 2",
   "language": "python",
   "name": "python2"
  },
  "language_info": {
   "codemirror_mode": {
    "name": "ipython",
    "version": 2
   },
   "file_extension": ".py",
   "mimetype": "text/x-python",
   "name": "python",
   "nbconvert_exporter": "python",
   "pygments_lexer": "ipython2",
   "version": "2.7.13"
  }
 },
 "nbformat": 4,
 "nbformat_minor": 2
}
