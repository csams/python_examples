{
 "cells": [
  {
   "cell_type": "markdown",
   "metadata": {},
   "source": [
    "# Demystifying Decorators"
   ]
  },
  {
   "cell_type": "markdown",
   "metadata": {},
   "source": [
    "## Some you may have seen\n",
    "- @staticmethod\n",
    "- @classmethod\n",
    "- @property\n",
    "- @app.route in flask or similiar in other frameworks\n",
    "\n",
    "\n",
    "## What's a decorator?\n",
    "It's an @ symbol followed by some name sitting just above a function, method, or class definition.\n",
    "\n",
    "## Well, yeah... but what is it *really*?\n",
    "The whole thing has three parts:\n",
    "- @ symbol\n",
    "- some name\n",
    "- function, method, or class definition\n",
    "\n",
    "The key is that @ symbol. It's an operator just like +, -, *, /, etc., and it has two operands:\n",
    "\n",
    "- A callable\n",
    "- A function or class definition\n",
    "\n",
    "## What's it do with them?\n",
    "\n",
    "It is syntactic sugar for the following pattern:"
   ]
  },
  {
   "cell_type": "code",
   "execution_count": 1,
   "metadata": {
    "collapsed": true,
    "deletable": true,
    "editable": true
   },
   "outputs": [],
   "source": [
    "# say we have some callable thing:\n",
    "\n",
    "def times_two(n):\n",
    "    return 2 * n"
   ]
  },
  {
   "cell_type": "code",
   "execution_count": 2,
   "metadata": {
    "collapsed": true
   },
   "outputs": [],
   "source": [
    "# and some other callable thing:\n",
    "\n",
    "def my_decorator(obj):\n",
    "    print \"Wrapping %s!\" % obj.__name__\n",
    "    return obj"
   ]
  },
  {
   "cell_type": "code",
   "execution_count": 3,
   "metadata": {
    "collapsed": false
   },
   "outputs": [
    {
     "name": "stdout",
     "output_type": "stream",
     "text": [
      "Wrapping times_two!\n"
     ]
    }
   ],
   "source": [
    "# and we pass the first thing into the second one and assign the result back to the first one.\n",
    "\n",
    "times_two = my_decorator(times_two)"
   ]
  },
  {
   "cell_type": "markdown",
   "metadata": {},
   "source": [
    "**The @ operator shortens this pattern. It invokes its first operand against its second operand, and it assigns the result back to the symbol for the second operand.**\n",
    "\n",
    "## And that's it. You now know everything about decorators."
   ]
  },
  {
   "cell_type": "code",
   "execution_count": 4,
   "metadata": {
    "collapsed": false
   },
   "outputs": [
    {
     "name": "stdout",
     "output_type": "stream",
     "text": [
      "Wrapping times_three!\n"
     ]
    }
   ],
   "source": [
    "@my_decorator\n",
    "def times_three(n):\n",
    "    return 3 * n"
   ]
  },
  {
   "cell_type": "code",
   "execution_count": 5,
   "metadata": {
    "collapsed": false
   },
   "outputs": [
    {
     "data": {
      "text/plain": [
       "<function __main__.times_three>"
      ]
     },
     "execution_count": 5,
     "metadata": {},
     "output_type": "execute_result"
    }
   ],
   "source": [
    "times_three"
   ]
  },
  {
   "cell_type": "markdown",
   "metadata": {},
   "source": [
    "Remember, the first operand to @ is a callable, and **the operator takes care of invoking it**."
   ]
  },
  {
   "cell_type": "markdown",
   "metadata": {},
   "source": [
    "### Didn't you say it worked on class definitions?"
   ]
  },
  {
   "cell_type": "code",
   "execution_count": 6,
   "metadata": {
    "collapsed": false
   },
   "outputs": [
    {
     "name": "stdout",
     "output_type": "stream",
     "text": [
      "Wrapping B!\n"
     ]
    }
   ],
   "source": [
    "@my_decorator\n",
    "class B(object):\n",
    "    pass"
   ]
  },
  {
   "cell_type": "code",
   "execution_count": 7,
   "metadata": {
    "collapsed": false
   },
   "outputs": [
    {
     "data": {
      "text/plain": [
       "__main__.B"
      ]
     },
     "execution_count": 7,
     "metadata": {},
     "output_type": "execute_result"
    }
   ],
   "source": [
    "B"
   ]
  },
  {
   "cell_type": "markdown",
   "metadata": {},
   "source": [
    "### And you're sure there's no  magic...?"
   ]
  },
  {
   "cell_type": "code",
   "execution_count": 8,
   "metadata": {
    "collapsed": true
   },
   "outputs": [],
   "source": [
    "def nope_youre_four(obj):\n",
    "    return 4"
   ]
  },
  {
   "cell_type": "code",
   "execution_count": 9,
   "metadata": {
    "collapsed": true
   },
   "outputs": [],
   "source": [
    "@nope_youre_four\n",
    "def im_a_function_that_returns_forty_two():\n",
    "    return 42"
   ]
  },
  {
   "cell_type": "code",
   "execution_count": 10,
   "metadata": {
    "collapsed": false
   },
   "outputs": [
    {
     "data": {
      "text/plain": [
       "4"
      ]
     },
     "execution_count": 10,
     "metadata": {},
     "output_type": "execute_result"
    }
   ],
   "source": [
    "im_a_function_that_returns_forty_two"
   ]
  },
  {
   "cell_type": "code",
   "execution_count": 11,
   "metadata": {
    "collapsed": false
   },
   "outputs": [
    {
     "data": {
      "text/plain": [
       "int"
      ]
     },
     "execution_count": 11,
     "metadata": {},
     "output_type": "execute_result"
    }
   ],
   "source": [
    "type(im_a_function_that_returns_forty_two)"
   ]
  },
  {
   "cell_type": "markdown",
   "metadata": {},
   "source": [
    "# Great! So what can we do with them?\n",
    "A lot of cool, kind of sophisticated things that all depend on other powerful features of python.\n",
    "## What features?\n",
    "- Functions and classes in python are first class citizens. They can be\n",
    "    - Passed as arguments\n",
    "    - Returned as values\n",
    "    - Created in any environment (in function invocations, class definitions, etc.)\n",
    "- Closures\n",
    "- Callable class instances (instances created from classes that behave like functions)\n",
    "- Splats (\\*args and \\*\\*kwargs)"
   ]
  },
  {
   "cell_type": "markdown",
   "metadata": {},
   "source": [
    "### Passed as arguments"
   ]
  },
  {
   "cell_type": "code",
   "execution_count": 12,
   "metadata": {
    "collapsed": true,
    "deletable": true,
    "editable": true
   },
   "outputs": [],
   "source": [
    "def square(x):\n",
    "    return x * x"
   ]
  },
  {
   "cell_type": "code",
   "execution_count": 13,
   "metadata": {
    "collapsed": true,
    "deletable": true,
    "editable": true
   },
   "outputs": [],
   "source": [
    "def mymap(func, args):\n",
    "    return [func(a) for a in args]"
   ]
  },
  {
   "cell_type": "code",
   "execution_count": 14,
   "metadata": {
    "collapsed": false,
    "deletable": true,
    "editable": true
   },
   "outputs": [
    {
     "data": {
      "text/plain": [
       "[0, 1, 4, 9, 16]"
      ]
     },
     "execution_count": 14,
     "metadata": {},
     "output_type": "execute_result"
    }
   ],
   "source": [
    "mymap(square, range(5))"
   ]
  },
  {
   "cell_type": "code",
   "execution_count": 15,
   "metadata": {
    "collapsed": true,
    "deletable": true,
    "editable": true
   },
   "outputs": [],
   "source": [
    "class A(object):\n",
    "    def __init__(self, obj):\n",
    "        self.obj = obj\n",
    "        \n",
    "    def __repr__(self):\n",
    "        return \"A(%s)\" % str(self.obj)"
   ]
  },
  {
   "cell_type": "code",
   "execution_count": 16,
   "metadata": {
    "collapsed": false,
    "deletable": true,
    "editable": true
   },
   "outputs": [
    {
     "data": {
      "text/plain": [
       "[A(0), A(1), A(2), A(3), A(4)]"
      ]
     },
     "execution_count": 16,
     "metadata": {},
     "output_type": "execute_result"
    }
   ],
   "source": [
    "mymap(A, range(5))"
   ]
  },
  {
   "cell_type": "markdown",
   "metadata": {
    "deletable": true,
    "editable": true
   },
   "source": [
    "### Inner definition, return value, and closure\n",
    "When a function definition is encountered, a callable object is created that contains pointers to the code of the definiton and the current local environment. It's this callable object that is given a name. When a callable object is invoked, a new environment is created that has the original environment of definition as its parent, and the body of the callable is evaluated in that new environment."
   ]
  },
  {
   "cell_type": "code",
   "execution_count": 17,
   "metadata": {
    "collapsed": true,
    "deletable": true,
    "editable": true
   },
   "outputs": [],
   "source": [
    "def multiplier(n):\n",
    "    def inner(x):\n",
    "        return x * n\n",
    "    return inner"
   ]
  },
  {
   "cell_type": "code",
   "execution_count": 18,
   "metadata": {
    "collapsed": false,
    "deletable": true,
    "editable": true
   },
   "outputs": [
    {
     "data": {
      "text/plain": [
       "12"
      ]
     },
     "execution_count": 18,
     "metadata": {},
     "output_type": "execute_result"
    }
   ],
   "source": [
    "mul_four = multiplier(4)\n",
    "\n",
    "# mul_four is a callable object created when the inner definition was evaluated. The inner definition created\n",
    "# a callable object that points to the code of its function body and its current environment. Its current\n",
    "# environment is the one created for the invocation of multiplier. This means the callable object created\n",
    "# when the definition for inner was evaluated can see whatever value was bound to n. And we can return this\n",
    "# callable object as the result of invoking multiplier.\n",
    "\n",
    "mul_four(3)"
   ]
  },
  {
   "cell_type": "code",
   "execution_count": 19,
   "metadata": {
    "collapsed": false
   },
   "outputs": [
    {
     "data": {
      "text/plain": [
       "[0, 1, 2, 3, 0, 1, 2, 3, 0, 1, 2, 3, 0, 1, 2, 3]"
      ]
     },
     "execution_count": 19,
     "metadata": {},
     "output_type": "execute_result"
    }
   ],
   "source": [
    "mul_four(range(4))"
   ]
  },
  {
   "cell_type": "markdown",
   "metadata": {},
   "source": [
    "### Objects can be callables, too!"
   ]
  },
  {
   "cell_type": "code",
   "execution_count": 20,
   "metadata": {
    "collapsed": false,
    "deletable": true,
    "editable": true
   },
   "outputs": [
    {
     "data": {
      "text/plain": [
       "9"
      ]
     },
     "execution_count": 20,
     "metadata": {},
     "output_type": "execute_result"
    }
   ],
   "source": [
    "class SquareIt(object):\n",
    "    def __call__(self, x):\n",
    "        return x * x\n",
    "    \n",
    "s = SquareIt()\n",
    "s(3)"
   ]
  },
  {
   "cell_type": "code",
   "execution_count": 21,
   "metadata": {
    "collapsed": false,
    "deletable": true,
    "editable": true
   },
   "outputs": [
    {
     "data": {
      "text/plain": [
       "[0, 1, 4, 9, 16]"
      ]
     },
     "execution_count": 21,
     "metadata": {},
     "output_type": "execute_result"
    }
   ],
   "source": [
    "mymap(s, range(5))"
   ]
  },
  {
   "cell_type": "markdown",
   "metadata": {},
   "source": [
    "### Splat Args"
   ]
  },
  {
   "cell_type": "code",
   "execution_count": 22,
   "metadata": {
    "collapsed": true
   },
   "outputs": [],
   "source": [
    "def add(a, b):\n",
    "    return a + b"
   ]
  },
  {
   "cell_type": "code",
   "execution_count": 23,
   "metadata": {
    "collapsed": false
   },
   "outputs": [
    {
     "data": {
      "text/plain": [
       "5"
      ]
     },
     "execution_count": 23,
     "metadata": {},
     "output_type": "execute_result"
    }
   ],
   "source": [
    "add(2, 3)"
   ]
  },
  {
   "cell_type": "code",
   "execution_count": 24,
   "metadata": {
    "collapsed": false
   },
   "outputs": [
    {
     "data": {
      "text/plain": [
       "5"
      ]
     },
     "execution_count": 24,
     "metadata": {},
     "output_type": "execute_result"
    }
   ],
   "source": [
    "args = [2, 3]\n",
    "add(*args)"
   ]
  },
  {
   "cell_type": "markdown",
   "metadata": {},
   "source": [
    "# Back to decorators!"
   ]
  },
  {
   "cell_type": "markdown",
   "metadata": {},
   "source": [
    "### How long does a function call take?"
   ]
  },
  {
   "cell_type": "code",
   "execution_count": 25,
   "metadata": {
    "collapsed": true
   },
   "outputs": [],
   "source": [
    "import functools\n",
    "import time\n",
    "from examples.util import get_name\n",
    "\n",
    "def timeit(func):\n",
    "    # @functools.wraps(func)\n",
    "    def inner(*args, **kwargs):\n",
    "        \"\"\"This is adding some enhancement.\"\"\"\n",
    "        start = time.time()\n",
    "        try:\n",
    "            return func(*args, **kwargs)\n",
    "        finally:\n",
    "            duration = (time.time() - start)\n",
    "            print \"%s took %s\" % (get_name(func), duration)\n",
    "\n",
    "    # note that we return inner instead of func!\n",
    "    return inner"
   ]
  },
  {
   "cell_type": "code",
   "execution_count": 26,
   "metadata": {
    "collapsed": true
   },
   "outputs": [],
   "source": [
    "import time\n",
    "\n",
    "@timeit\n",
    "def sum_to_n(a):\n",
    "    \"\"\"Sums integers.\"\"\"\n",
    "    total = a\n",
    "    for x in range(a):\n",
    "        total += x\n",
    "        time.sleep(1)\n",
    "    return total"
   ]
  },
  {
   "cell_type": "code",
   "execution_count": 27,
   "metadata": {
    "collapsed": false
   },
   "outputs": [
    {
     "name": "stdout",
     "output_type": "stream",
     "text": [
      "__main__.sum_to_n took 4.00597500801\n"
     ]
    },
    {
     "data": {
      "text/plain": [
       "10"
      ]
     },
     "execution_count": 27,
     "metadata": {},
     "output_type": "execute_result"
    }
   ],
   "source": [
    "sum_to_n(4)"
   ]
  },
  {
   "cell_type": "code",
   "execution_count": 28,
   "metadata": {
    "collapsed": false
   },
   "outputs": [
    {
     "data": {
      "text/plain": [
       "<function __main__.inner>"
      ]
     },
     "execution_count": 28,
     "metadata": {},
     "output_type": "execute_result"
    }
   ],
   "source": [
    "sum_to_n"
   ]
  },
  {
   "cell_type": "code",
   "execution_count": 29,
   "metadata": {
    "collapsed": false
   },
   "outputs": [
    {
     "data": {
      "text/plain": [
       "'This is adding some enhancement.'"
      ]
     },
     "execution_count": 29,
     "metadata": {},
     "output_type": "execute_result"
    }
   ],
   "source": [
    "sum_to_n.__doc__"
   ]
  },
  {
   "cell_type": "markdown",
   "metadata": {},
   "source": [
    "## Cool... but what about decorators that take arguments?\n",
    "\n",
    "Okay, so you noticed that our decorators haven't had any parens at the end. That's because the @ operator takes care of invocation for us. Remember, the operator takes two operands: a callable as the first and some function, method, or class definition to apply it against as the second.\n",
    "\n",
    "Since the @ operator will call the first operand for us, it doesn't seem like we can give it any arguments. What can we do? Let's take a clue from timeit."
   ]
  },
  {
   "cell_type": "code",
   "execution_count": 42,
   "metadata": {
    "collapsed": false
   },
   "outputs": [
    {
     "name": "stdout",
     "output_type": "stream",
     "text": [
      "Calling times_four!\n"
     ]
    },
    {
     "data": {
      "text/plain": [
       "16"
      ]
     },
     "execution_count": 42,
     "metadata": {},
     "output_type": "execute_result"
    }
   ],
   "source": [
    "# Say we want a decorator that prints a custom message for each thing it decorates.\n",
    "\n",
    "# Since a global msg won't work, and we can't pass one into the decorator, let's make a factory function where\n",
    "# msg is locally defined and create a function similar in structure to timeit inside that scope. Like with timeit,\n",
    "# we can return a locally defined function as the value of an enclosing function.\n",
    "\n",
    "def make_noisy(msg):\n",
    "    def decorator(func):\n",
    "        @functools.wraps(func)\n",
    "        def inner(*args, **kwargs):\n",
    "            print msg\n",
    "            return func(*args, **kwargs)\n",
    "        return inner\n",
    "    return decorator\n",
    "\n",
    "# We have to get an instance of the decorator back out of that whole thing, so let's ask the factory for one:\n",
    "noise_maker = make_noisy(\"Calling times_four!\")\n",
    "\n",
    "# noise_maker is a procedure constructed from the inner function definition and the environment where it was\n",
    "# evaluated. I.e., it's a callable object that contains an environment where msg is bound to the string we passed\n",
    "# into make_noisy. We can use it as the first operand of @.\n",
    "\n",
    "@noise_maker\n",
    "def times_four(n):\n",
    "    return 4 * n\n",
    "\n",
    "times_four(4)"
   ]
  },
  {
   "cell_type": "markdown",
   "metadata": {},
   "source": [
    "### Can we skip that assignment step?"
   ]
  },
  {
   "cell_type": "markdown",
   "metadata": {},
   "source": [
    "Sure, let's just call make_noisy right after the @. We don't have to give the callable we're getting out of it a name first."
   ]
  },
  {
   "cell_type": "code",
   "execution_count": 31,
   "metadata": {
    "collapsed": false
   },
   "outputs": [
    {
     "name": "stdout",
     "output_type": "stream",
     "text": [
      "Calling times_five!\n"
     ]
    },
    {
     "data": {
      "text/plain": [
       "25"
      ]
     },
     "execution_count": 31,
     "metadata": {},
     "output_type": "execute_result"
    }
   ],
   "source": [
    "@make_noisy(\"Calling times_five!\")\n",
    "def times_five(n):\n",
    "    return 5 * n\n",
    "\n",
    "times_five(5)"
   ]
  },
  {
   "cell_type": "markdown",
   "metadata": {},
   "source": [
    "## Neat! Show me something practical I can do with it.\n",
    "\n",
    "### Configurable Automatic Retries"
   ]
  },
  {
   "cell_type": "code",
   "execution_count": 83,
   "metadata": {
    "collapsed": false
   },
   "outputs": [],
   "source": [
    "import functools\n",
    "\n",
    "def retry(num_retries=3):\n",
    "    def decorator(func):\n",
    "        @functools.wraps(func)\n",
    "        def inner(*args, **kwargs):\n",
    "            exception = None\n",
    "            attempts = num_retries + 1\n",
    "            for attempt in xrange(1, attempts + 1):\n",
    "                try:\n",
    "                    return func(*args, **kwargs)\n",
    "                except Exception as ex:\n",
    "                    print \"Attempt %s failed!\" % attempt\n",
    "                    exception = ex\n",
    "            raise exception\n",
    "        return inner\n",
    "    return decorator"
   ]
  },
  {
   "cell_type": "code",
   "execution_count": 84,
   "metadata": {
    "collapsed": true
   },
   "outputs": [],
   "source": [
    "import random\n",
    "\n",
    "@retry(num_retries=5)\n",
    "def flaky():\n",
    "    if random.random() < 0.5:\n",
    "        raise Exception(\"Boom!\")\n",
    "    return \"Success!\""
   ]
  },
  {
   "cell_type": "code",
   "execution_count": 103,
   "metadata": {
    "collapsed": false
   },
   "outputs": [
    {
     "name": "stdout",
     "output_type": "stream",
     "text": [
      "Attempt 1 failed!\n",
      "Attempt 2 failed!\n"
     ]
    },
    {
     "data": {
      "text/plain": [
       "'Success!'"
      ]
     },
     "execution_count": 103,
     "metadata": {},
     "output_type": "execute_result"
    }
   ],
   "source": [
    "flaky()"
   ]
  },
  {
   "cell_type": "markdown",
   "metadata": {},
   "source": [
    "### Memoization\n",
    "\n",
    "We could have a function automatically remember its return values for given arguments. This can be useful if the function is computationally expensive or backed by a call that takes a long time to complete. Say it's reading from disk or making a network call."
   ]
  },
  {
   "cell_type": "code",
   "execution_count": 35,
   "metadata": {
    "collapsed": true
   },
   "outputs": [],
   "source": [
    "# Here's a long running call to a service. The results don't change for the same arguments,\n",
    "# and we don't need to remember every result.\n",
    "\n",
    "# Terribad implementation for calculating fibonacci numbers for a given index. (Big-O complexity of 2^n)\n",
    "def fib(n):\n",
    "    if n < 2:\n",
    "        return 1\n",
    "    return fib(n - 1) + fib(n - 2)"
   ]
  },
  {
   "cell_type": "markdown",
   "metadata": {},
   "source": [
    "### Let's keep the results from the last few calls around in case they're needed again soon."
   ]
  },
  {
   "cell_type": "code",
   "execution_count": 36,
   "metadata": {
    "collapsed": false
   },
   "outputs": [],
   "source": [
    "import functools\n",
    "from collections import deque\n",
    "\n",
    "from examples.util import naive_hash\n",
    "\n",
    "\n",
    "def memoizer(cache_size=5):\n",
    "    # local state\n",
    "    cache = {}\n",
    "    args_queue = deque()\n",
    "    cache_size = cache_size\n",
    "\n",
    "    # inner functions\n",
    "    def check_evict():\n",
    "        if len(args_queue) > cache_size:\n",
    "            old_key = args_queue.popleft()\n",
    "            del cache[old_key]\n",
    "            \n",
    "    def should_compute(key):\n",
    "        return key not in cache\n",
    "\n",
    "    def memoize(key, value):\n",
    "        cache[key] = value\n",
    "        args_queue.append(key)\n",
    "        \n",
    "    def value(key):\n",
    "        return cache[key]\n",
    "\n",
    "    # the function that @ will call for us\n",
    "    def decorator(func):\n",
    "        @functools.wraps(func)\n",
    "        def inner(*args, **kwargs):\n",
    "            key = naive_hash(args, kwargs)\n",
    "            if should_compute(key):\n",
    "                memoize(key, func(*args, **kwargs))\n",
    "            check_evict()\n",
    "            return value(key)\n",
    "        return inner\n",
    "\n",
    "    return decorator"
   ]
  },
  {
   "cell_type": "code",
   "execution_count": 37,
   "metadata": {
    "collapsed": true
   },
   "outputs": [],
   "source": [
    "@memoizer(cache_size=3)\n",
    "def memfib(n):\n",
    "    if n < 2:\n",
    "        return 1\n",
    "    return memfib(n - 1) + memfib(n - 2)"
   ]
  },
  {
   "cell_type": "code",
   "execution_count": 38,
   "metadata": {
    "collapsed": false
   },
   "outputs": [
    {
     "data": {
      "text/plain": [
       "573147844013817084101L"
      ]
     },
     "execution_count": 38,
     "metadata": {},
     "output_type": "execute_result"
    }
   ],
   "source": [
    "# This wouldn't complete in our lifetimes without memoization.\n",
    "memfib(100)"
   ]
  },
  {
   "cell_type": "markdown",
   "metadata": {},
   "source": [
    "## Awesome, but wouldn't that be hard to test or change eviction policy?\n",
    "Yep, and we already have a thing to capture local state and related functions: let's use a class."
   ]
  },
  {
   "cell_type": "code",
   "execution_count": 39,
   "metadata": {
    "collapsed": true
   },
   "outputs": [],
   "source": [
    "import functools\n",
    "from collections import deque\n",
    "\n",
    "from examples.util import naive_hash\n",
    "\n",
    "\n",
    "class Memoizer(object):\n",
    "    def __init__(self, cache_size=5):\n",
    "        self.cache = {}\n",
    "        self.args_queue = deque()\n",
    "        self.cache_size = cache_size\n",
    "\n",
    "    def _check_evict(self):\n",
    "        if len(self.args_queue) > self.cache_size:\n",
    "            old_key = self.args_queue.popleft()\n",
    "            del self.cache[old_key]\n",
    "            \n",
    "    def _should_compute(self, key):\n",
    "        return key not in self.cache\n",
    "\n",
    "    def _memoize(self, key, value):\n",
    "        self.cache[key] = value\n",
    "        self.args_queue.append(key)\n",
    "        \n",
    "    def _value(self, key):\n",
    "        return self.cache[key]\n",
    "        \n",
    "    def __call__(self, func):\n",
    "        @functools.wraps(func)\n",
    "        def inner(*args, **kwargs):\n",
    "            key = naive_hash(args, kwargs)\n",
    "            if self._should_compute(key):\n",
    "                self._memoize(key, func(*args, **kwargs))\n",
    "            self._check_evict()\n",
    "            return self._value(key)\n",
    "        return inner"
   ]
  },
  {
   "cell_type": "code",
   "execution_count": 40,
   "metadata": {
    "collapsed": true
   },
   "outputs": [],
   "source": [
    "@Memoizer(cache_size=3)\n",
    "def memfib2(n):\n",
    "    if n < 2:\n",
    "        return 1\n",
    "    return memfib2(n - 1) + memfib2(n - 2)"
   ]
  },
  {
   "cell_type": "code",
   "execution_count": 41,
   "metadata": {
    "collapsed": false
   },
   "outputs": [
    {
     "data": {
      "text/plain": [
       "573147844013817084101L"
      ]
     },
     "execution_count": 41,
     "metadata": {},
     "output_type": "execute_result"
    }
   ],
   "source": [
    "memfib2(100)"
   ]
  },
  {
   "cell_type": "markdown",
   "metadata": {},
   "source": [
    "# Any Questions?"
   ]
  },
  {
   "cell_type": "code",
   "execution_count": null,
   "metadata": {
    "collapsed": true
   },
   "outputs": [],
   "source": []
  }
 ],
 "metadata": {
  "kernelspec": {
   "display_name": "Python 2",
   "language": "python",
   "name": "python2"
  },
  "language_info": {
   "codemirror_mode": {
    "name": "ipython",
    "version": 2
   },
   "file_extension": ".py",
   "mimetype": "text/x-python",
   "name": "python",
   "nbconvert_exporter": "python",
   "pygments_lexer": "ipython2",
   "version": "2.7.13"
  }
 },
 "nbformat": 4,
 "nbformat_minor": 2
}
